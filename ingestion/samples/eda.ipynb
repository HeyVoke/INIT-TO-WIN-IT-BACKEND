{
 "cells": [
  {
   "cell_type": "code",
   "execution_count": null,
   "id": "038befdf",
   "metadata": {},
   "outputs": [],
   "source": [
    "import pandas as pd\n",
    "import numpy as np\n",
    "import os\n",
    "import matplotlib.pyplot as plt\n",
    "import seaborn as sns"
   ]
  },
  {
   "cell_type": "code",
   "execution_count": null,
   "id": "98cba738",
   "metadata": {},
   "outputs": [],
   "source": [
    "# Get all CSV files in the folder that start with \"LBG Reboot 2025\"\n",
    "folder_path = 'LBG Reboot 2025 LDN - Health Demo Data'\n",
    "csv_files = sorted([file for file in os.listdir(folder_path) if file.endswith('.csv')])\n",
    "# Read each CSV file into a dataframe and store them in a list\n",
    "data_map = {int(file[0]): pd.read_csv(os.path.join(folder_path, file)) for file in csv_files}\n",
    "\n",
    "display(csv_files)"
   ]
  },
  {
   "cell_type": "markdown",
   "id": "7f73ba35",
   "metadata": {},
   "source": [
    "# 1. Sleep Data"
   ]
  },
  {
   "cell_type": "code",
   "execution_count": null,
   "id": "785f5aa9",
   "metadata": {},
   "outputs": [],
   "source": [
    "df = data_map[1]"
   ]
  },
  {
   "cell_type": "code",
   "execution_count": null,
   "id": "fb6c58cd",
   "metadata": {},
   "outputs": [],
   "source": [
    "list(df)"
   ]
  },
  {
   "cell_type": "code",
   "execution_count": null,
   "id": "fc8199f2",
   "metadata": {},
   "outputs": [],
   "source": [
    "# Select sleep-related columns\n",
    "sleep_columns = ['Date', 'Time', 'Sleep Duration (hours)', 'Time Awake (minutes)', 'REM Sleep (%)', 'Core Sleep (%)', 'Deep Sleep (%)']\n",
    "df_sleep = df.copy()[sleep_columns]\n",
    "\n",
    "# make a datetime column\n",
    "df_sleep['Datetime'] = pd.to_datetime(df_sleep['Date'] + ' ' + df_sleep['Time'], format='%d-%b-%Y %H:%M:%S')\n",
    "df_sleep.set_index('Datetime', inplace=True)\n",
    "df_sleep['asleep'] = df_sleep['Sleep Duration (hours)'] > 0\n",
    "\n",
    "# Ensure 'Date' is converted to datetime before reusing it\n",
    "df_sleep['Date'] = pd.to_datetime(df_sleep['Date'])\n",
    "df_sleep['Hour'] = df_sleep.index.hour  # Use the index directly for 'Hour'\n",
    "df_sleep['DayOfWeek'] = df_sleep.index.day_name()  # Use the index directly for 'DayOfWeek'\n",
    "\n",
    "# Create a new column for the time of day morning, afternoon, evening, night\n",
    "def time_of_day(hour):\n",
    "    if hour < 6:\n",
    "        return 'night'\n",
    "    elif hour < 12:\n",
    "        return 'morning'\n",
    "    elif hour < 18:\n",
    "        return 'afternoon'\n",
    "    else:\n",
    "        return 'evening'\n",
    "\n",
    "df_sleep['time_of_day'] = df_sleep.index.hour.map(time_of_day)\n",
    "\n",
    "df_sleep.head()"
   ]
  },
  {
   "cell_type": "markdown",
   "id": "4b59195e",
   "metadata": {},
   "source": [
    "## 1.1 Data Quality Check"
   ]
  },
  {
   "cell_type": "code",
   "execution_count": null,
   "id": "ca374d34",
   "metadata": {},
   "outputs": [],
   "source": [
    "# Missing values – Check if any of the columns have missing or zero values.\n",
    "missing_values = df_sleep.isnull().sum()"
   ]
  },
  {
   "cell_type": "code",
   "execution_count": null,
   "id": "47675ec7",
   "metadata": {},
   "outputs": [],
   "source": [
    "# Data consistency – Ensure sleep percentages (REM, Core, Deep) sum to ~100% or make sense relative to sleep duration for each row.\n",
    "# Check if the sum of sleep percentages is close to 100%\n",
    "def check_sleep_percentages(row):\n",
    "    if row['Sleep Duration (hours)'] > 0:\n",
    "        total_percentage = row['REM Sleep (%)'] + row['Core Sleep (%)'] + row['Deep Sleep (%)']\n",
    "        return total_percentage == 100\n",
    "    return True  # Valid if sleep duration is 0\n",
    "\n",
    "df_sleep['valid_sleep'] = df_sleep.apply(check_sleep_percentages, axis=1)\n",
    "# Check for any invalid sleep entries\n",
    "invalid_sleep_entries = df_sleep[~df_sleep['valid_sleep']]\n",
    "# Display the invalid entries\n",
    "invalid_sleep_entries = df_sleep[~df_sleep['valid_sleep']]\n",
    "invalid_sleep_entries.head()"
   ]
  },
  {
   "cell_type": "code",
   "execution_count": null,
   "id": "98cc007f",
   "metadata": {},
   "outputs": [],
   "source": [
    "# Check for duplicate timestamps\n",
    "df_sleep[df_sleep.index.duplicated(keep=False)]"
   ]
  },
  {
   "cell_type": "markdown",
   "id": "aa9a9e72",
   "metadata": {},
   "source": [
    "## 1.2 EDA"
   ]
  },
  {
   "cell_type": "code",
   "execution_count": null,
   "id": "cdb3bc38",
   "metadata": {},
   "outputs": [],
   "source": [
    "plt.figure(figsize=(10, 6))\n",
    "sns.boxplot(x='Hour', y='Sleep Duration (hours)', data=df_sleep)\n",
    "plt.title('Sleep Duration by Hour of Day')\n",
    "plt.show()"
   ]
  },
  {
   "cell_type": "code",
   "execution_count": null,
   "id": "d18b0b61",
   "metadata": {},
   "outputs": [],
   "source": [
    "# Sleep by day of the week\n",
    "plt.figure(figsize=(10, 6))\n",
    "sns.boxplot(x='DayOfWeek', y='Sleep Duration (hours)', data=df_sleep,\n",
    "            order=['Monday', 'Tuesday', 'Wednesday', 'Thursday', 'Friday', 'Saturday', 'Sunday'])\n",
    "plt.title('Sleep Duration by Day of Week')\n",
    "plt.xticks(rotation=45)\n",
    "plt.show()"
   ]
  },
  {
   "cell_type": "code",
   "execution_count": null,
   "id": "25cda52e",
   "metadata": {},
   "outputs": [],
   "source": [
    "def plot_sleep_phases_for_night(date_str, df):\n",
    "    \"\"\"\n",
    "    Plot a 24-hour sleep phase chart from 12PM of a given date to 12PM next day.\n",
    "\n",
    "    Args:\n",
    "    - date_str (str): Date string in 'YYYY-MM-DD' format\n",
    "    - df (pd.DataFrame): Sleep data with 'Datetime' as the index and % columns\n",
    "    \"\"\"\n",
    "    date = pd.to_datetime(date_str)\n",
    "    start = date + pd.Timedelta(hours=12)  # 12 PM of selected day\n",
    "    end = start + pd.Timedelta(hours=24)   # 12 PM of the next day\n",
    "\n",
    "    df_window = df[(df.index >= start) & (df.index < end)]\n",
    "\n",
    "    if df_window.empty:\n",
    "        print(f\"No data found for night of {date_str}\")\n",
    "        return\n",
    "\n",
    "    # Ensure sorting\n",
    "    df_window = df_window.sort_index()\n",
    "\n",
    "    # Extract values\n",
    "    times = df_window.index.strftime('%m-%d %H:%M')\n",
    "    rem = df_window['REM Sleep (%)']\n",
    "    core = df_window['Core Sleep (%)']\n",
    "    deep = df_window['Deep Sleep (%)']\n",
    "\n",
    "    # Plot\n",
    "    plt.figure(figsize=(14, 6))\n",
    "    plt.bar(times, rem, label='REM Sleep', color='royalblue')\n",
    "    plt.bar(times, core, bottom=rem, label='Core Sleep', color='mediumseagreen')\n",
    "    plt.bar(times, deep, bottom=rem + core, label='Deep Sleep', color='slateblue')\n",
    "\n",
    "    plt.title(f'Sleep Phases from {start.strftime(\"%Y-%m-%d %H:%M\")} to {end.strftime(\"%Y-%m-%d %H:%M\")}')\n",
    "    plt.xlabel('Time (Hour)')\n",
    "    plt.ylabel('Sleep Phase Percentage (%)')\n",
    "    plt.xticks(rotation=45)\n",
    "    plt.ylim(0, 100)\n",
    "    plt.legend()\n",
    "    plt.tight_layout()\n",
    "    plt.show()\n",
    "\n",
    "\n",
    "plot_sleep_phases_for_night('2025-03-20', df_sleep)"
   ]
  }
 ],
 "metadata": {
  "kernelspec": {
   "display_name": ".venv",
   "language": "python",
   "name": "python3"
  },
  "language_info": {
   "codemirror_mode": {
    "name": "ipython",
    "version": 3
   },
   "file_extension": ".py",
   "mimetype": "text/x-python",
   "name": "python",
   "nbconvert_exporter": "python",
   "pygments_lexer": "ipython3",
   "version": "3.12.4"
  }
 },
 "nbformat": 4,
 "nbformat_minor": 5
}
